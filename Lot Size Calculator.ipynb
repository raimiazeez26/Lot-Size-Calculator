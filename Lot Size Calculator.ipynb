{
 "cells": [
  {
   "cell_type": "markdown",
   "metadata": {},
   "source": [
    "# Lot Size Calculator"
   ]
  },
  {
   "cell_type": "code",
   "execution_count": 1,
   "metadata": {},
   "outputs": [],
   "source": [
    "from datetime import datetime\n",
    "import matplotlib.pyplot as plt\n",
    "import pandas as pd\n",
    "import numpy\n",
    "import ta\n",
    "#import talib\n",
    "from pandas.plotting import register_matplotlib_converters\n",
    "register_matplotlib_converters()\n",
    "import MetaTrader5 as mt5\n",
    "\n",
    "# establish MetaTrader 5 connection to a specified trading account\n",
    "if not mt5.initialize(login=50757251, server=\"ICMarketsSC-Demo\",password=\"D8sBpykf\"):\n",
    "    print(\"initialize() failed, error code =\",mt5.last_error())\n",
    "    quit()"
   ]
  },
  {
   "cell_type": "code",
   "execution_count": null,
   "metadata": {},
   "outputs": [],
   "source": []
  },
  {
   "cell_type": "code",
   "execution_count": 2,
   "metadata": {},
   "outputs": [
    {
     "name": "stdout",
     "output_type": "stream",
     "text": [
      "MetaTrader5 package author:  MetaQuotes Ltd.\n",
      "MetaTrader5 package version:  5.0.37\n",
      "TerminalInfo(community_account=False, community_connection=False, connected=True, dlls_allowed=False, trade_allowed=True, tradeapi_disabled=False, email_enabled=False, ftp_enabled=False, notifications_enabled=False, mqid=True, build=3270, maxbars=100000, codepage=0, ping_last=182283, community_balance=0.0, retransmission=0.0, company='Raw Trading Ltd', name='MetaTrader 5 IC Markets (SC)', language='English', path='C:\\\\Users\\\\RaimiAzeez\\\\AppData\\\\Roaming\\\\MetaTrader 5 IC Markets (SC)', data_path='C:\\\\Users\\\\RaimiAzeez\\\\AppData\\\\Roaming\\\\MetaTrader 5 IC Markets (SC)', commondata_path='C:\\\\Users\\\\RaimiAzeez\\\\AppData\\\\Roaming\\\\MetaQuotes\\\\Terminal\\\\Common')\n",
      "(500, 3270, '21 Apr 2022')\n"
     ]
    }
   ],
   "source": [
    "import MetaTrader5 as mt5\n",
    "# display data on the MetaTrader 5 package\n",
    "print(\"MetaTrader5 package author: \",mt5.__author__)\n",
    "print(\"MetaTrader5 package version: \",mt5.__version__)\n",
    " \n",
    "# establish MetaTrader 5 connection to a specified trading account\n",
    "if not mt5.initialize(login=50757251, server=\"ICMarketsSC-Demo\",password=\"D8sBpykf\"):\n",
    "    print(\"initialize() failed, error code =\",mt5.last_error())\n",
    "    quit()\n",
    " \n",
    "# display data on connection status, server name and trading account\n",
    "print(mt5.terminal_info())\n",
    "# display data on MetaTrader 5 version\n",
    "print(mt5.version())\n",
    " \n",
    "# shut down connection to the MetaTrader 5 terminal\n",
    "#mt5.shutdown()"
   ]
  },
  {
   "cell_type": "markdown",
   "metadata": {},
   "source": [
    "# Lot Size Calc"
   ]
  },
  {
   "cell_type": "code",
   "execution_count": 2,
   "metadata": {},
   "outputs": [
    {
     "name": "stdout",
     "output_type": "stream",
     "text": [
      "Account currency: USD\n",
      "Account Balance = $ 92832.99\n",
      "Risk Amount = $ 928.3299000000001\n",
      "EURUSD price = $ 1.05371\n",
      "Currency per pip =  USD 4.641649500000001 /pip\n",
      "Units =  46416.49500000001\n",
      "Lot Size1 =  0.4641649500000001\n",
      "Lot size =  0.46416495\n"
     ]
    }
   ],
   "source": [
    "# get account currency\n",
    "account_currency=mt5.account_info().currency\n",
    "print(\"Account currency:\",account_currency)\n",
    "\n",
    "# get account balance \n",
    "account_info=mt5.account_info()\n",
    "if account_info!=None:\n",
    "    account_balance = account_info.balance\n",
    "    print(\"Account Balance = $\", account_balance)\n",
    "\n",
    "# define risk amount\n",
    "# risk in value\n",
    "#risk = 1000 \n",
    "#risk in percentage\n",
    "risk_perc = 1 #%\n",
    "risk = (account_balance * risk_perc)/100\n",
    "print(\"Risk Amount = $\", risk)\n",
    "\n",
    "#get currency price\n",
    "symbol = \"EURUSD\"\n",
    "price =mt5.symbol_info(symbol).ask\n",
    "print(symbol, \"price = $\", price )\n",
    "\n",
    "#Define stop loss\n",
    "stop_loss_pip = 200 #in pips\n",
    "stop_loss = 0.72362 # In Value\n",
    "\n",
    "#Calculate Currency per pair\n",
    "curr_per_pair = risk/stop_loss_pip\n",
    "print(\"Currency per pip = \", account_currency, curr_per_pair,\"/pip\")\n",
    "\n",
    "# Calculate number of units\n",
    "point=mt5.symbol_info(symbol).point\n",
    "units = curr_per_pair * 10000\n",
    "lot_size = units/100000\n",
    "print(\"Units = \", units)\n",
    "print(\"Lot Size1 = \", lot_size)\n",
    "\n",
    "#Shortcut\n",
    "points_short = stop_loss_pip * 10\n",
    "lot = risk / points_short\n",
    "print(\"Lot size = \", lot)\n"
   ]
  },
  {
   "cell_type": "markdown",
   "metadata": {},
   "source": [
    "# Automated"
   ]
  },
  {
   "cell_type": "code",
   "execution_count": 15,
   "metadata": {},
   "outputs": [
    {
     "name": "stdout",
     "output_type": "stream",
     "text": [
      "Input account currency: USD\n",
      "Input Account Balance: 3000\n",
      "Input risk amout in percentage: 2\n",
      "Enter stop loss (in pips): 20\n",
      "Lot size =  0.3\n"
     ]
    }
   ],
   "source": [
    "\n",
    "\"\"\"\n",
    "# get account currency\n",
    "account_currency= str(input(\"Input account currency: \"))\n",
    "#print(\"Account currency:\",account_currency)\n",
    "\n",
    "# get account balance \n",
    "account_balance = float(input(\"Input Account Balance: \"))\n",
    "#print(\"Account Balance = $\", account_balance)\n",
    "\n",
    "#risk in percentage\n",
    "risk_perc = float(input(\"Input risk amout in percentage: \")) #%\n",
    "risk = (account_balance * risk_perc)/100\n",
    "#print(\"Risk Amount = $\", risk)\n",
    "\n",
    "#Define stop loss\n",
    "stop_loss_pip = float(input(\"Enter stop loss (in pips): \")) #in pips\n",
    "\n",
    "#Calculate Lot size\n",
    "points_short = stop_loss_pip * 10\n",
    "lot = round(risk / points_short, 2)\n",
    "print(\"Lot size = \", lot)\n",
    "\n",
    "\"\"\""
   ]
  },
  {
   "cell_type": "code",
   "execution_count": 16,
   "metadata": {},
   "outputs": [],
   "source": [
    "def cal_lot_size(balance, risk, stop_loss):\n",
    "    global lot, account_currency, account_balance, risk_perc, stop_loss_pip\n",
    "    # connect to MetaTrader 5\n",
    "    if not mt5.initialize():\n",
    "        print(\"initialize() failed\")\n",
    "        mt5.shutdown()\n",
    "\n",
    "    # get currency pair\n",
    "    #pair = str(pair) #str(input(\"Instrument: \"))\n",
    "    #print(\"Account currency:\",account_currency) \n",
    "    \n",
    "    # get account currency\n",
    "    account_currency= \"USD\" #str(input(\"Input account currency: \"))\n",
    "    #print(\"Account currency:\",account_currency)\n",
    "\n",
    "    # get account balance \n",
    "    account_balance = float(balance) #int(input(\"Input Account Balance: \"))\n",
    "    #print(\"Account Balance = $\", account_balance)\n",
    "\n",
    "    #risk in percentage\n",
    "    risk_perc = float(risk) #int(input(\"Input risk amout in percentage: \")) #%\n",
    "    risk = (account_balance * risk_perc)/100\n",
    "    #print(\"Risk Amount = $\", risk)\n",
    "\n",
    "    #Define stop loss\n",
    "    stop_loss_pip = float(stop_loss)   # int(input(\"Enter stop loss (in pips): \")) #in pips\n",
    "\n",
    "    #Calculate Lot size\n",
    "    #point = mt5.symbol_info(pair).point\n",
    "    #points_short = stop_loss_pip * point\n",
    "    lot = round(risk / points_short, 2)\n",
    "    return lot\n",
    "    #print(\"Lot size = \", lot)\n"
   ]
  },
  {
   "cell_type": "code",
   "execution_count": 18,
   "metadata": {},
   "outputs": [
    {
     "data": {
      "text/plain": [
       "0.1"
      ]
     },
     "execution_count": 18,
     "metadata": {},
     "output_type": "execute_result"
    }
   ],
   "source": [
    "cac = cal_lot_size(1000, 2, 30)\n",
    "cac"
   ]
  },
  {
   "cell_type": "markdown",
   "metadata": {},
   "source": [
    "# Flask Deployment"
   ]
  },
  {
   "cell_type": "code",
   "execution_count": 19,
   "metadata": {},
   "outputs": [],
   "source": [
    "#importing the required libraries\n",
    "from flask import Flask, render_template, request, redirect, url_for\n",
    "from joblib import load\n",
    "from flask_ngrok import run_with_ngrok\n",
    "#from get_tweets import get_related_tweets\n",
    "from logging import FileHandler,WARNING"
   ]
  },
  {
   "cell_type": "code",
   "execution_count": 20,
   "metadata": {},
   "outputs": [
    {
     "name": "stdout",
     "output_type": "stream",
     "text": [
      " * ngrok tunnel \"http://0500-41-184-210-11.ngrok.io\" -> \"http://127.0.0.1:5000\"\n"
     ]
    },
    {
     "name": "stderr",
     "output_type": "stream",
     "text": [
      "t=2022-06-23T15:07:32+0100 lvl=warn msg=\"failed to open private leg\" id=62e5ce3272f0 privaddr=localhost:5000 err=\"dial tcp [::1]:5000: connectex: No connection could be made because the target machine actively refused it.\"\n",
      "t=2022-06-23T15:07:34+0100 lvl=warn msg=\"failed to open private leg\" id=31783b6a2d38 privaddr=localhost:5000 err=\"dial tcp [::1]:5000: connectex: No connection could be made because the target machine actively refused it.\"\n"
     ]
    }
   ],
   "source": [
    "import os\n",
    "import threading\n",
    "\n",
    "from flask import Flask\n",
    "from pyngrok import ngrok\n",
    "\n",
    "# Open a HTTP tunnel on the default port 80\n",
    "public_url = ngrok.connect(port = '4040')\n",
    "\n",
    "os.environ[\"FLASK_ENV\"] = \"development\"\n",
    "\n",
    "app = Flask(__name__)\n",
    "port = 5000\n",
    "\n",
    "# Open a ngrok tunnel to the HTTP server\n",
    "public_url = ngrok.connect(port).public_url\n",
    "print(\" * ngrok tunnel \\\"{}\\\" -> \\\"http://127.0.0.1:{}\\\"\".format(public_url, port))\n",
    "\n",
    "# Update any base URLs to use the public ngrok URL\n",
    "app.config[\"BASE_URL\"] = public_url\n",
    "\n",
    "# ... Update inbound traffic via APIs to use the public-facing ngrok URL\n",
    "\n",
    "\n",
    "# Define Flask routes\n",
    "# render default webpage\n",
    "@app.route('/')\n",
    "def home():\n",
    "    return render_template(\"lot size home.html\")\n",
    "\n",
    "# when the post method detect, then redirect to success function\n",
    "@app.route('/', methods=['POST', 'GET'])\n",
    "def get_data():\n",
    "    global acnt, bal, risk, stop\n",
    "    if request.method == 'POST':\n",
    "        #acnt = request.form['account_currency']\n",
    "        bal = int(request.form['account_balance'])\n",
    "        risk = int(request.form['risk_amount'])\n",
    "        stop = int(request.form['stop_loss'])\n",
    "        return redirect(url_for('success', name=stop))\n",
    "    else:\n",
    "      return render_template('lot size home.html')\n",
    "\n",
    "# get the data for the requested query\n",
    "@app.route('/success/<name>')\n",
    "def success(name):\n",
    "    lot = cal_lot_size(bal, risk, stop)\n",
    "    \n",
    "    return render_template(\"lot size home2.html\", variable = lot)"
   ]
  },
  {
   "cell_type": "code",
   "execution_count": 21,
   "metadata": {},
   "outputs": [
    {
     "name": "stdout",
     "output_type": "stream",
     "text": [
      " * Serving Flask app \"__main__\" (lazy loading)\n",
      " * Environment: development\n",
      " * Debug mode: on\n"
     ]
    },
    {
     "name": "stderr",
     "output_type": "stream",
     "text": [
      " * Running on http://127.0.0.1:5000/ (Press CTRL+C to quit)\n",
      "127.0.0.1 - - [23/Jun/2022 15:07:49] \"GET / HTTP/1.1\" 200 -\n",
      "127.0.0.1 - - [23/Jun/2022 15:08:03] \"GET /favicon.ico HTTP/1.1\" 404 -\n",
      "127.0.0.1 - - [23/Jun/2022 15:08:19] \"POST / HTTP/1.1\" 302 -\n",
      "127.0.0.1 - - [23/Jun/2022 15:08:20] \"GET /success/150 HTTP/1.1\" 200 -\n"
     ]
    }
   ],
   "source": [
    "# Start the Flask server in a new thread\n",
    "threading.Thread(target=app.run, kwargs={\"use_reloader\": False}).start()"
   ]
  },
  {
   "cell_type": "code",
   "execution_count": 22,
   "metadata": {},
   "outputs": [],
   "source": [
    "ngrok.kill()"
   ]
  },
  {
   "cell_type": "code",
   "execution_count": null,
   "metadata": {},
   "outputs": [],
   "source": []
  }
 ],
 "metadata": {
  "interpreter": {
   "hash": "50c863d982d1f74188d30ce531b52166be6a970032e415e3b8fa0147f1cde3d5"
  },
  "kernelspec": {
   "display_name": "Python 3 (ipykernel)",
   "language": "python",
   "name": "python3"
  },
  "language_info": {
   "codemirror_mode": {
    "name": "ipython",
    "version": 3
   },
   "file_extension": ".py",
   "mimetype": "text/x-python",
   "name": "python",
   "nbconvert_exporter": "python",
   "pygments_lexer": "ipython3",
   "version": "3.9.7"
  }
 },
 "nbformat": 4,
 "nbformat_minor": 2
}
